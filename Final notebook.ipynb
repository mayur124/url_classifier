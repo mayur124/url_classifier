{
 "cells": [
  {
   "cell_type": "code",
   "execution_count": 4,
   "metadata": {},
   "outputs": [],
   "source": [
    "import pandas as pd\n",
    "names = ['Index','URL', 'Category']\n",
    "df = pd.read_csv('E:/Mayur/Sem 5/Python project/project/URL Classification.csv', names=names, na_filter=False)"
   ]
  },
  {
   "cell_type": "code",
   "execution_count": null,
   "metadata": {},
   "outputs": [],
   "source": [
    "print('Arts ', len(df[df['Category']=='Arts']))\n",
    "print('Business ', len(df[df['Category']=='Business']))\n",
    "print('Computers ', len(df[df['Category']=='Computers']))\n",
    "print('Games ', len(df[df['Category']=='Games']))\n",
    "print('Health ', len(df[df['Category']=='Health']))\n",
    "print('Home ', len(df[df['Category']=='Home']))\n",
    "print('Kids ', len(df[df['Category']=='Kids']))\n",
    "print('News ', len(df[df['Category']=='News']))\n",
    "print('Recreation ', len(df[df['Category']=='Recreation']))\n",
    "print('Reference ', len(df[df['Category']=='Reference']))\n",
    "print('Science ', len(df[df['Category']=='Science']))\n",
    "print('Shopping ', len(df[df['Category']=='Shopping']))\n",
    "print('Society ', len(df[df['Category']=='Society']))\n",
    "print('Sports ', len(df[df['Category']=='Sports']))"
   ]
  },
  {
   "cell_type": "code",
   "execution_count": 5,
   "metadata": {},
   "outputs": [
    {
     "data": {
      "text/html": [
       "<div>\n",
       "<style scoped>\n",
       "    .dataframe tbody tr th:only-of-type {\n",
       "        vertical-align: middle;\n",
       "    }\n",
       "\n",
       "    .dataframe tbody tr th {\n",
       "        vertical-align: top;\n",
       "    }\n",
       "\n",
       "    .dataframe thead th {\n",
       "        text-align: right;\n",
       "    }\n",
       "</style>\n",
       "<table border=\"1\" class=\"dataframe\">\n",
       "  <thead>\n",
       "    <tr style=\"text-align: right;\">\n",
       "      <th></th>\n",
       "      <th>Index</th>\n",
       "      <th>URL</th>\n",
       "      <th>Category</th>\n",
       "    </tr>\n",
       "  </thead>\n",
       "  <tbody>\n",
       "    <tr>\n",
       "      <td>1</td>\n",
       "      <td>35327</td>\n",
       "      <td>http://animation.about.com/</td>\n",
       "      <td>Arts</td>\n",
       "    </tr>\n",
       "    <tr>\n",
       "      <td>2</td>\n",
       "      <td>35328</td>\n",
       "      <td>http://www.toonhound.com</td>\n",
       "      <td>Arts</td>\n",
       "    </tr>\n",
       "    <tr>\n",
       "      <td>3</td>\n",
       "      <td>35329</td>\n",
       "      <td>http://www.geocities.com/d-patanella/</td>\n",
       "      <td>Arts</td>\n",
       "    </tr>\n",
       "    <tr>\n",
       "      <td>4</td>\n",
       "      <td>35330</td>\n",
       "      <td>http://enculturation.gmu.edu/2_1/pisters.html</td>\n",
       "      <td>Arts</td>\n",
       "    </tr>\n",
       "    <tr>\n",
       "      <td>5</td>\n",
       "      <td>35331</td>\n",
       "      <td>http://www.digitalmediafx.com/features/animati...</td>\n",
       "      <td>Arts</td>\n",
       "    </tr>\n",
       "  </tbody>\n",
       "</table>\n",
       "</div>"
      ],
      "text/plain": [
       "   Index                                                URL Category\n",
       "1  35327                        http://animation.about.com/     Arts\n",
       "2  35328                           http://www.toonhound.com     Arts\n",
       "3  35329              http://www.geocities.com/d-patanella/     Arts\n",
       "4  35330      http://enculturation.gmu.edu/2_1/pisters.html     Arts\n",
       "5  35331  http://www.digitalmediafx.com/features/animati...     Arts"
      ]
     },
     "execution_count": 5,
     "metadata": {},
     "output_type": "execute_result"
    }
   ],
   "source": [
    "#category wise data splitting for training\n",
    "\n",
    "df_arts = df[1:40001]\n",
    "df_business = df[253842:293842]\n",
    "df_computers = df[494018:534018]\n",
    "df_games = df[611981:651981]\n",
    "df_health = df[668458:708458]\n",
    "df_home = df[728555:756555]\n",
    "df_kids = df[756824:796824]\n",
    "df_news = df[803006:811006]\n",
    "df_recreation = df[811995:851995]\n",
    "df_reference = df[918581:958581]\n",
    "df_science = df[976828:1016828]\n",
    "df_shopping = df[1087114:1127114]\n",
    "df_society = df[1182384:1222384]\n",
    "df_sports = df[1426327:1466333]\n",
    "\n",
    "dt = pd.concat([df_arts, df_business, df_computers, df_games, df_health, df_home, df_kids, df_news, df_recreation, df_reference, df_science, df_shopping, df_society, df_sports], axis=0)\n",
    "dt.head()"
   ]
  },
  {
   "cell_type": "code",
   "execution_count": null,
   "metadata": {},
   "outputs": [],
   "source": [
    "print('Arts ', len(dt[dt['Category']=='Arts']))\n",
    "print('Business ', len(dt[dt['Category']=='Business']))\n",
    "print('Computers ', len(dt[dt['Category']=='Computers']))\n",
    "print('Games ', len(dt[dt['Category']=='Games']))\n",
    "print('Health ', len(dt[dt['Category']=='Health']))\n",
    "print('Home ', len(dt[dt['Category']=='Home']))\n",
    "print('Kids ', len(dt[dt['Category']=='Kids']))\n",
    "print('News ', len(dt[dt['Category']=='News']))\n",
    "print('Recreation ', len(dt[dt['Category']=='Recreation']))\n",
    "print('Reference ', len(dt[dt['Category']=='Reference']))\n",
    "print('Science ', len(dt[dt['Category']=='Science']))\n",
    "print('Shopping ', len(dt[dt['Category']=='Shopping']))\n",
    "print('Society ', len(dt[dt['Category']=='Society']))\n",
    "print('Sports ', len(dt[dt['Category']=='Sports']))"
   ]
  },
  {
   "cell_type": "code",
   "execution_count": 6,
   "metadata": {},
   "outputs": [
    {
     "data": {
      "text/html": [
       "<div>\n",
       "<style scoped>\n",
       "    .dataframe tbody tr th:only-of-type {\n",
       "        vertical-align: middle;\n",
       "    }\n",
       "\n",
       "    .dataframe tbody tr th {\n",
       "        vertical-align: top;\n",
       "    }\n",
       "\n",
       "    .dataframe thead th {\n",
       "        text-align: right;\n",
       "    }\n",
       "</style>\n",
       "<table border=\"1\" class=\"dataframe\">\n",
       "  <thead>\n",
       "    <tr style=\"text-align: right;\">\n",
       "      <th></th>\n",
       "      <th>Index</th>\n",
       "      <th>URL</th>\n",
       "      <th>Category</th>\n",
       "    </tr>\n",
       "  </thead>\n",
       "  <tbody>\n",
       "    <tr>\n",
       "      <td>494018</td>\n",
       "      <td>123</td>\n",
       "      <td>https://mail.google.com/mail/u/0/#inbox</td>\n",
       "      <td>Computers</td>\n",
       "    </tr>\n",
       "    <tr>\n",
       "      <td>494019</td>\n",
       "      <td>123</td>\n",
       "      <td>https://drive.google.com/drive/</td>\n",
       "      <td>Computers</td>\n",
       "    </tr>\n",
       "    <tr>\n",
       "      <td>494020</td>\n",
       "      <td>123</td>\n",
       "      <td>https://drive.google.com/drive/</td>\n",
       "      <td>Computers</td>\n",
       "    </tr>\n",
       "    <tr>\n",
       "      <td>494021</td>\n",
       "      <td>123</td>\n",
       "      <td>https://www.javatpoint.com/</td>\n",
       "      <td>Computers</td>\n",
       "    </tr>\n",
       "    <tr>\n",
       "      <td>494022</td>\n",
       "      <td>234</td>\n",
       "      <td>https://www.tutorialspoint.com/index.htm</td>\n",
       "      <td>Computers</td>\n",
       "    </tr>\n",
       "  </tbody>\n",
       "</table>\n",
       "</div>"
      ],
      "text/plain": [
       "        Index                                       URL   Category\n",
       "494018    123   https://mail.google.com/mail/u/0/#inbox  Computers\n",
       "494019    123           https://drive.google.com/drive/  Computers\n",
       "494020    123           https://drive.google.com/drive/  Computers\n",
       "494021    123               https://www.javatpoint.com/  Computers\n",
       "494022    234  https://www.tutorialspoint.com/index.htm  Computers"
      ]
     },
     "execution_count": 6,
     "metadata": {},
     "output_type": "execute_result"
    }
   ],
   "source": [
    "dt[dt['Category']=='Computers'].head()"
   ]
  },
  {
   "cell_type": "code",
   "execution_count": 7,
   "metadata": {},
   "outputs": [
    {
     "data": {
      "text/plain": [
       "<matplotlib.axes._subplots.AxesSubplot at 0xac3f241208>"
      ]
     },
     "execution_count": 7,
     "metadata": {},
     "output_type": "execute_result"
    },
    {
     "data": {
      "image/png": "[encoded data removed]",
      "text/plain": [
       "<Figure size 432x288 with 1 Axes>"
      ]
     },
     "metadata": {
      "needs_background": "light"
     },
     "output_type": "display_data"
    }
   ],
   "source": [
    "import matplotlib as plt\n",
    "%matplotlib inline\n",
    "dt['Category'].value_counts().plot(kind='bar')"
   ]
  },
  {
   "cell_type": "code",
   "execution_count": 8,
   "metadata": {},
   "outputs": [],
   "source": [
    "x_test = dt['URL']\n",
    "y_test = dt['Category']\n",
    "\n",
    "x_train = df['URL']\n",
    "y_train = df['Category']"
   ]
  },
  {
   "cell_type": "code",
   "execution_count": null,
   "metadata": {},
   "outputs": [],
   "source": [
    "from sklearn.pipeline import Pipeline\n",
    "from sklearn.feature_extraction.text import CountVectorizer\n",
    "from sklearn.feature_extraction.text import TfidfTransformer\n",
    "from sklearn.naive_bayes import MultinomialNB\n",
    "\n",
    "text_clf = Pipeline([('vect', CountVectorizer()), ('tfidf', TfidfTransformer()), ('clf', MultinomialNB())])\n",
    "text_clf = text_clf.fit(x_test, y_test)"
   ]
  },
  {
   "cell_type": "code",
   "execution_count": null,
   "metadata": {},
   "outputs": [],
   "source": [
    "# text_clf.predict(['http://www.india.com/'])"
   ]
  },
  {
   "cell_type": "code",
   "execution_count": null,
   "metadata": {},
   "outputs": [],
   "source": [
    "from sklearn.model_selection import RandomizedSearchCV\n",
    "n_iter_search = 5\n",
    "parameters = {'vect__ngram_range': [(1, 1), (1, 2)], 'tfidf__use_idf': (True, False), 'clf__alpha': (1e-2, 1e-3)}\n",
    "gs_clf = RandomizedSearchCV(text_clf, parameters, n_iter = n_iter_search, cv=5)\n",
    "gs_clf = gs_clf.fit(x_test, y_test)"
   ]
  },
  {
   "cell_type": "code",
   "execution_count": null,
   "metadata": {},
   "outputs": [],
   "source": [
    "gs_clf.predict(['http://www.amazon.com/'])"
   ]
  },
  {
   "cell_type": "code",
   "execution_count": null,
   "metadata": {},
   "outputs": [],
   "source": [
    "# from sklearn import metrics\n",
    "# metrics.accuracy_score(y_train,gs_clf.predict(x_train))"
   ]
  },
  {
   "cell_type": "code",
   "execution_count": null,
   "metadata": {},
   "outputs": [],
   "source": [
    "# from sklearn import metrics\n",
    "# metrics.accuracy_score(y_test,gs_clf.predict(x_test))"
   ]
  },
  {
   "cell_type": "code",
   "execution_count": null,
   "metadata": {},
   "outputs": [],
   "source": [
    "# import pickle\n",
    "\n",
    "# pickle.dump(gs_clf,open('E:/Mayur/Sem 5/Python project/final_model.pickle','wb'))"
   ]
  },
  {
   "cell_type": "code",
   "execution_count": null,
   "metadata": {},
   "outputs": [],
   "source": [
    "# from klepto.archives import dir_archive\n",
    "\n",
    "# model = dir_archive('E:/Mayur/Sem 5/Python project/model_klepto3',{'result':gs_clf},serialized=True, cached=True)\n",
    "# model.dump()"
   ]
  },
  {
   "cell_type": "code",
   "execution_count": null,
   "metadata": {},
   "outputs": [],
   "source": [
    "# demo = dir_archive('E:/Mayur/Sem 5/Python project/model_klepto3', {}, serialized=True, cached=True)"
   ]
  },
  {
   "cell_type": "code",
   "execution_count": null,
   "metadata": {},
   "outputs": [],
   "source": [
    "# demo.load()"
   ]
  },
  {
   "cell_type": "code",
   "execution_count": null,
   "metadata": {},
   "outputs": [],
   "source": [
    "# demo['result'].predict(['http://www.github.com/'])"
   ]
  },
  {
   "cell_type": "code",
   "execution_count": null,
   "metadata": {},
   "outputs": [],
   "source": [
    "import joblib\n",
    "model_joblib = joblib.dump(gs_clf, open('E:/Mayur/Sem 5/Python project/project/model_joblib2','wb'), compress=9)"
   ]
  },
  {
   "cell_type": "code",
   "execution_count": null,
   "metadata": {},
   "outputs": [],
   "source": [
    "joblib_load = joblib.load(open('E:/Mayur/Sem 5/Python project/project/model_joblib','rb'))\n",
    "joblib_load.predict(['http://www.github.com/'])"
   ]
  },
  {
   "cell_type": "code",
   "execution_count": null,
   "metadata": {},
   "outputs": [],
   "source": []
  }
 ],
 "metadata": {
  "kernelspec": {
   "display_name": "Python 3",
   "language": "python",
   "name": "python3"
  },
  "language_info": {
   "codemirror_mode": {
    "name": "ipython",
    "version": 3
   },
   "file_extension": ".py",
   "mimetype": "text/x-python",
   "name": "python",
   "nbconvert_exporter": "python",
   "pygments_lexer": "ipython3",
   "version": "3.7.4"
  }
 },
 "nbformat": 4,
 "nbformat_minor": 2
}
